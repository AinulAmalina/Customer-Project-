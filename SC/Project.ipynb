{
 "cells": [
  {
   "cell_type": "markdown",
   "metadata": {},
   "source": [
    "<img src=\"../images/Peoplelogy-Logo.png\" style=\"height: 150px;\" align=left> <img src=\"../images/python-logo.png\" style=\"height: 150px;\" align=right>"
   ]
  },
  {
   "cell_type": "markdown",
   "metadata": {},
   "source": [
    "# Customer Segmentation Analysis Project\n",
    "\n",
    "<img src=\"../images/mall.jpg\" style=\"height: 500px; width: 1500px;\" align=left>\n",
    "<br>\n",
    "\n",
    "---\n",
    "### Objective\n",
    "Analyze customer demographics and spending behavior using descriptive statistics, visualizations, and distribution analysis. The goal is to provide insights into customer segments and spending patterns, incorporating knowledge of central tendency, dispersion, and outlier analysis.\n",
    "\n",
    "---"
   ]
  },
  {
   "cell_type": "markdown",
   "metadata": {},
   "source": [
    "## Project Instructions\n",
    "### Deliverables\n",
    "- **Summary Report**: Summarize key findings for each question.\n",
    "- **Visualizations**: Include all histograms, box plots, scatter plots, and bar charts created during the analysis.\n",
    "- **Interpretations**: Provide written explanations for all analyses, including insights from central tendency, dispersion, and distribution analysis.\n"
   ]
  },
  {
   "cell_type": "markdown",
   "metadata": {},
   "source": [
    "---\n",
    "### 1. Basic Data Exploration\n",
    "\n",
    "#### Q1: Load and explore the dataset.\n",
    "- Display the first five rows of the dataset.\n",
    "- Identify and list all columns along with their data types.\n",
    "-  Change the data types to reduce the data size."
   ]
  },
  {
   "cell_type": "code",
   "execution_count": 1,
   "metadata": {},
   "outputs": [],
   "source": [
    "# Your Code Here\n",
    "# Import library and dataset\n",
    "import seaborn as sns\n",
    "import matplotlib.pyplot as plt\n",
    "import numpy as np\n",
    "import pandas as pd\n",
    "\n",
    "from scipy import stats \n",
    "\n",
    "from scipy.stats import norm, poisson, uniform, skew, kurtosis, iqr, stats , mode"
   ]
  },
  {
   "cell_type": "code",
   "execution_count": 3,
   "metadata": {},
   "outputs": [
    {
     "data": {
      "text/html": [
       "<div>\n",
       "<style scoped>\n",
       "    .dataframe tbody tr th:only-of-type {\n",
       "        vertical-align: middle;\n",
       "    }\n",
       "\n",
       "    .dataframe tbody tr th {\n",
       "        vertical-align: top;\n",
       "    }\n",
       "\n",
       "    .dataframe thead th {\n",
       "        text-align: right;\n",
       "    }\n",
       "</style>\n",
       "<table border=\"1\" class=\"dataframe\">\n",
       "  <thead>\n",
       "    <tr style=\"text-align: right;\">\n",
       "      <th></th>\n",
       "      <th>CustomerID</th>\n",
       "      <th>Gender</th>\n",
       "      <th>Age</th>\n",
       "      <th>Annual Income (k$)</th>\n",
       "      <th>Spending Score (1-100)</th>\n",
       "    </tr>\n",
       "  </thead>\n",
       "  <tbody>\n",
       "    <tr>\n",
       "      <th>0</th>\n",
       "      <td>1</td>\n",
       "      <td>Male</td>\n",
       "      <td>19</td>\n",
       "      <td>15</td>\n",
       "      <td>39</td>\n",
       "    </tr>\n",
       "    <tr>\n",
       "      <th>1</th>\n",
       "      <td>2</td>\n",
       "      <td>Male</td>\n",
       "      <td>21</td>\n",
       "      <td>15</td>\n",
       "      <td>81</td>\n",
       "    </tr>\n",
       "    <tr>\n",
       "      <th>2</th>\n",
       "      <td>3</td>\n",
       "      <td>Female</td>\n",
       "      <td>20</td>\n",
       "      <td>16</td>\n",
       "      <td>6</td>\n",
       "    </tr>\n",
       "    <tr>\n",
       "      <th>3</th>\n",
       "      <td>4</td>\n",
       "      <td>Female</td>\n",
       "      <td>23</td>\n",
       "      <td>16</td>\n",
       "      <td>77</td>\n",
       "    </tr>\n",
       "    <tr>\n",
       "      <th>4</th>\n",
       "      <td>5</td>\n",
       "      <td>Female</td>\n",
       "      <td>31</td>\n",
       "      <td>17</td>\n",
       "      <td>40</td>\n",
       "    </tr>\n",
       "  </tbody>\n",
       "</table>\n",
       "</div>"
      ],
      "text/plain": [
       "   CustomerID  Gender  Age  Annual Income (k$)  Spending Score (1-100)\n",
       "0           1    Male   19                  15                      39\n",
       "1           2    Male   21                  15                      81\n",
       "2           3  Female   20                  16                       6\n",
       "3           4  Female   23                  16                      77\n",
       "4           5  Female   31                  17                      40"
      ]
     },
     "execution_count": 3,
     "metadata": {},
     "output_type": "execute_result"
    }
   ],
   "source": [
    "df= pd.read_csv(\"Mall_Customers.csv\")\n",
    "df.head(5)"
   ]
  },
  {
   "cell_type": "code",
   "execution_count": 3,
   "metadata": {},
   "outputs": [
    {
     "name": "stdout",
     "output_type": "stream",
     "text": [
      "<class 'pandas.core.frame.DataFrame'>\n",
      "RangeIndex: 200 entries, 0 to 199\n",
      "Data columns (total 5 columns):\n",
      " #   Column                  Non-Null Count  Dtype \n",
      "---  ------                  --------------  ----- \n",
      " 0   CustomerID              200 non-null    int64 \n",
      " 1   Gender                  200 non-null    object\n",
      " 2   Age                     200 non-null    int64 \n",
      " 3   Annual Income (k$)      200 non-null    int64 \n",
      " 4   Spending Score (1-100)  200 non-null    int64 \n",
      "dtypes: int64(4), object(1)\n",
      "memory usage: 7.9+ KB\n"
     ]
    }
   ],
   "source": [
    "# data types\n",
    "df.info()"
   ]
  },
  {
   "cell_type": "code",
   "execution_count": 4,
   "metadata": {},
   "outputs": [
    {
     "data": {
      "text/html": [
       "<div>\n",
       "<style scoped>\n",
       "    .dataframe tbody tr th:only-of-type {\n",
       "        vertical-align: middle;\n",
       "    }\n",
       "\n",
       "    .dataframe tbody tr th {\n",
       "        vertical-align: top;\n",
       "    }\n",
       "\n",
       "    .dataframe thead th {\n",
       "        text-align: right;\n",
       "    }\n",
       "</style>\n",
       "<table border=\"1\" class=\"dataframe\">\n",
       "  <thead>\n",
       "    <tr style=\"text-align: right;\">\n",
       "      <th></th>\n",
       "      <th>CustomerID</th>\n",
       "      <th>Age</th>\n",
       "      <th>Annual Income (k$)</th>\n",
       "      <th>Spending Score (1-100)</th>\n",
       "    </tr>\n",
       "  </thead>\n",
       "  <tbody>\n",
       "    <tr>\n",
       "      <th>count</th>\n",
       "      <td>200.000000</td>\n",
       "      <td>200.000000</td>\n",
       "      <td>200.000000</td>\n",
       "      <td>200.000000</td>\n",
       "    </tr>\n",
       "    <tr>\n",
       "      <th>mean</th>\n",
       "      <td>100.500000</td>\n",
       "      <td>38.850000</td>\n",
       "      <td>60.560000</td>\n",
       "      <td>50.200000</td>\n",
       "    </tr>\n",
       "    <tr>\n",
       "      <th>std</th>\n",
       "      <td>57.879185</td>\n",
       "      <td>13.969007</td>\n",
       "      <td>26.264721</td>\n",
       "      <td>25.823522</td>\n",
       "    </tr>\n",
       "    <tr>\n",
       "      <th>min</th>\n",
       "      <td>1.000000</td>\n",
       "      <td>18.000000</td>\n",
       "      <td>15.000000</td>\n",
       "      <td>1.000000</td>\n",
       "    </tr>\n",
       "    <tr>\n",
       "      <th>25%</th>\n",
       "      <td>50.750000</td>\n",
       "      <td>28.750000</td>\n",
       "      <td>41.500000</td>\n",
       "      <td>34.750000</td>\n",
       "    </tr>\n",
       "    <tr>\n",
       "      <th>50%</th>\n",
       "      <td>100.500000</td>\n",
       "      <td>36.000000</td>\n",
       "      <td>61.500000</td>\n",
       "      <td>50.000000</td>\n",
       "    </tr>\n",
       "    <tr>\n",
       "      <th>75%</th>\n",
       "      <td>150.250000</td>\n",
       "      <td>49.000000</td>\n",
       "      <td>78.000000</td>\n",
       "      <td>73.000000</td>\n",
       "    </tr>\n",
       "    <tr>\n",
       "      <th>max</th>\n",
       "      <td>200.000000</td>\n",
       "      <td>70.000000</td>\n",
       "      <td>137.000000</td>\n",
       "      <td>99.000000</td>\n",
       "    </tr>\n",
       "  </tbody>\n",
       "</table>\n",
       "</div>"
      ],
      "text/plain": [
       "       CustomerID         Age  Annual Income (k$)  Spending Score (1-100)\n",
       "count  200.000000  200.000000          200.000000              200.000000\n",
       "mean   100.500000   38.850000           60.560000               50.200000\n",
       "std     57.879185   13.969007           26.264721               25.823522\n",
       "min      1.000000   18.000000           15.000000                1.000000\n",
       "25%     50.750000   28.750000           41.500000               34.750000\n",
       "50%    100.500000   36.000000           61.500000               50.000000\n",
       "75%    150.250000   49.000000           78.000000               73.000000\n",
       "max    200.000000   70.000000          137.000000               99.000000"
      ]
     },
     "execution_count": 4,
     "metadata": {},
     "output_type": "execute_result"
    }
   ],
   "source": [
    "df.describe()"
   ]
  },
  {
   "cell_type": "markdown",
   "metadata": {},
   "source": [
    "#### Q2: Check for any missing values in the dataset. If there are any, note which columns are affected.\n",
    "\n"
   ]
  },
  {
   "cell_type": "code",
   "execution_count": 4,
   "metadata": {},
   "outputs": [
    {
     "name": "stdout",
     "output_type": "stream",
     "text": [
      "<class 'pandas.core.frame.DataFrame'>\n",
      "RangeIndex: 200 entries, 0 to 199\n",
      "Data columns (total 5 columns):\n",
      " #   Column                  Non-Null Count  Dtype \n",
      "---  ------                  --------------  ----- \n",
      " 0   CustomerID              200 non-null    int64 \n",
      " 1   Gender                  200 non-null    object\n",
      " 2   Age                     200 non-null    int64 \n",
      " 3   Annual Income (k$)      200 non-null    int64 \n",
      " 4   Spending Score (1-100)  200 non-null    int64 \n",
      "dtypes: int64(4), object(1)\n",
      "memory usage: 7.9+ KB\n"
     ]
    }
   ],
   "source": [
    "#Your Code Here\n",
    "\n",
    "df.info()"
   ]
  },
  {
   "cell_type": "code",
   "execution_count": 5,
   "metadata": {},
   "outputs": [],
   "source": [
    "#This data set no have missing value."
   ]
  },
  {
   "cell_type": "markdown",
   "metadata": {},
   "source": [
    "---"
   ]
  },
  {
   "cell_type": "markdown",
   "metadata": {},
   "source": [
    "### 2. Descriptive Statistics\n",
    "\n",
    "#### Q3: Calculate and interpret the following statistics for the **Age**, **Annual Income**, and **Spending Score** columns:\n",
    "   - Mean\n",
    "   - Median\n",
    "   - Mode\n",
    "   - Standard deviation\n"
   ]
  },
  {
   "cell_type": "code",
   "execution_count": 10,
   "metadata": {},
   "outputs": [
    {
     "name": "stdout",
     "output_type": "stream",
     "text": [
      "Mean for Age : 38.85\n",
      "Median for Age :  36.0\n",
      "Mode for Age :  ModeResult(mode=np.int64(19), count=np.int64(1))\n",
      "Standard deviation for Age :  13.934041050606963\n"
     ]
    },
    {
     "name": "stderr",
     "output_type": "stream",
     "text": [
      "C:\\Users\\USER\\AppData\\Local\\Temp\\ipykernel_5840\\2220976377.py:3: DeprecationWarning: Please import `mode` from the `scipy.stats` namespace; the `scipy.stats.stats` namespace is deprecated and will be removed in SciPy 2.0.0.\n",
      "  Age_mode = stats.mode(df[\"Age\"][0])\n"
     ]
    }
   ],
   "source": [
    "\n",
    "Age_mean = np.mean(df.loc[:, \"Age\"])\n",
    "Age_median = np.median(df.loc[:, \"Age\"])\n",
    "Age_mode = stats.mode(df[\"Age\"][0])\n",
    "Age_std = np.std(df.loc[:, \"Age\"])\n",
    "\n",
    "\n",
    "print(\"Mean for Age :\", Age_mean)\n",
    "print(\"Median for Age : \",Age_median)\n",
    "print(\"Mode for Age : \",Age_mode)\n",
    "print(\"Standard deviation for Age : \",Age_std)"
   ]
  },
  {
   "cell_type": "code",
   "execution_count": 15,
   "metadata": {},
   "outputs": [
    {
     "data": {
      "text/plain": [
       "np.float64(60.56)"
      ]
     },
     "execution_count": 15,
     "metadata": {},
     "output_type": "execute_result"
    }
   ],
   "source": [
    "#Mean for Annual Income:\n",
    "df['Annual Income (k$)'].mean()"
   ]
  },
  {
   "cell_type": "code",
   "execution_count": 16,
   "metadata": {},
   "outputs": [
    {
     "data": {
      "text/plain": [
       "np.float64(61.5)"
      ]
     },
     "execution_count": 16,
     "metadata": {},
     "output_type": "execute_result"
    }
   ],
   "source": [
    "#Median for Annual Income:\n",
    "df['Annual Income (k$)'].median()"
   ]
  },
  {
   "cell_type": "code",
   "execution_count": 17,
   "metadata": {},
   "outputs": [
    {
     "data": {
      "text/plain": [
       "0    54\n",
       "1    78\n",
       "Name: Annual Income (k$), dtype: int64"
      ]
     },
     "execution_count": 17,
     "metadata": {},
     "output_type": "execute_result"
    }
   ],
   "source": [
    "#Mode for Annual Income:\n",
    "df['Annual Income (k$)'].mode()"
   ]
  },
  {
   "cell_type": "code",
   "execution_count": 18,
   "metadata": {},
   "outputs": [
    {
     "data": {
      "text/plain": [
       "np.float64(26.264721165271244)"
      ]
     },
     "execution_count": 18,
     "metadata": {},
     "output_type": "execute_result"
    }
   ],
   "source": [
    "#Standard Deviation for Annual Income:\n",
    "df['Annual Income (k$)'].std()"
   ]
  },
  {
   "cell_type": "code",
   "execution_count": 19,
   "metadata": {},
   "outputs": [
    {
     "data": {
      "text/plain": [
       "np.float64(50.2)"
      ]
     },
     "execution_count": 19,
     "metadata": {},
     "output_type": "execute_result"
    }
   ],
   "source": [
    "#Mean for Spending Score:\n",
    "df['Spending Score (1-100)'].mean()"
   ]
  },
  {
   "cell_type": "code",
   "execution_count": 20,
   "metadata": {},
   "outputs": [
    {
     "data": {
      "text/plain": [
       "np.float64(50.0)"
      ]
     },
     "execution_count": 20,
     "metadata": {},
     "output_type": "execute_result"
    }
   ],
   "source": [
    "#Median  for Spending Score:\n",
    "df['Spending Score (1-100)'].median()"
   ]
  },
  {
   "cell_type": "code",
   "execution_count": 15,
   "metadata": {},
   "outputs": [
    {
     "data": {
      "text/plain": [
       "0    42\n",
       "Name: Spending Score (1-100), dtype: int64"
      ]
     },
     "execution_count": 15,
     "metadata": {},
     "output_type": "execute_result"
    }
   ],
   "source": [
    "#Mode for spending score\n",
    "df['Spending Score (1-100)'].mode()"
   ]
  },
  {
   "cell_type": "code",
   "execution_count": 21,
   "metadata": {},
   "outputs": [
    {
     "data": {
      "text/plain": [
       "np.float64(25.823521668370173)"
      ]
     },
     "execution_count": 21,
     "metadata": {},
     "output_type": "execute_result"
    }
   ],
   "source": [
    "#Standard Deviation for Spending score\n",
    "df['Spending Score (1-100)'].std()"
   ]
  },
  {
   "cell_type": "markdown",
   "metadata": {},
   "source": [
    "---"
   ]
  },
  {
   "cell_type": "markdown",
   "metadata": {},
   "source": [
    "### 3. Distribution Analysis\n",
    "\n",
    "#### Q4(a): Examine the **Age** distribution using a histogram. Describe whether it appears normally distributed, skewed, or has any outliers.\n"
   ]
  },
  {
   "cell_type": "code",
   "execution_count": 23,
   "metadata": {},
   "outputs": [
    {
     "data": {
      "text/plain": [
       "<Axes: >"
      ]
     },
     "execution_count": 23,
     "metadata": {},
     "output_type": "execute_result"
    },
    {
     "data": {
      "image/png": "[encoded data removed]",
      "text/plain": [
       "<Figure size 640x480 with 1 Axes>"
      ]
     },
     "metadata": {},
     "output_type": "display_data"
    }
   ],
   "source": [
    "#Positively skewed and have outlier which too high age in data and low age in data.\n",
    "\n",
    "df.loc[:, 'Age'].hist(bins = 20)"
   ]
  },
  {
   "cell_type": "markdown",
   "metadata": {},
   "source": [
    "#### Q4(b): Examine the **Annual income** distribution using a histogram. Describe whether it appears normally distributed, skewed, or has any outliers."
   ]
  },
  {
   "cell_type": "code",
   "execution_count": 24,
   "metadata": {},
   "outputs": [
    {
     "data": {
      "text/plain": [
       "<Axes: >"
      ]
     },
     "execution_count": 24,
     "metadata": {},
     "output_type": "execute_result"
    },
    {
     "data": {
      "image/png": "[encoded data removed]",
      "text/plain": [
       "<Figure size 640x480 with 1 Axes>"
      ]
     },
     "metadata": {},
     "output_type": "display_data"
    }
   ],
   "source": [
    "#Negatively skewed and has too high annual income data and too low annual income data.\n",
    "df.loc[:, 'Annual Income (k$)'].hist(bins = 20)"
   ]
  },
  {
   "cell_type": "markdown",
   "metadata": {},
   "source": [
    "#### Q5: Calculate the **skewness** and **kurtosis** for the **Annual Income** and **Spending Score** columns. Interpret the results.\n",
    "\n",
    "---"
   ]
  },
  {
   "cell_type": "code",
   "execution_count": 25,
   "metadata": {},
   "outputs": [
    {
     "data": {
      "text/plain": [
       "np.float64(0.3218425498619055)"
      ]
     },
     "execution_count": 25,
     "metadata": {},
     "output_type": "execute_result"
    }
   ],
   "source": [
    "#Positive skewness for Annual income\n",
    "df['Annual Income (k$)'].skew()"
   ]
  },
  {
   "cell_type": "code",
   "execution_count": 26,
   "metadata": {},
   "outputs": [
    {
     "data": {
      "text/plain": [
       "np.float64(-0.09848708652696159)"
      ]
     },
     "execution_count": 26,
     "metadata": {},
     "output_type": "execute_result"
    }
   ],
   "source": [
    "#Negative kurtosis for Annual Income\n",
    "kurtosis(df['Annual Income (k$)'],bias = 0)"
   ]
  },
  {
   "cell_type": "code",
   "execution_count": 27,
   "metadata": {},
   "outputs": [
    {
     "data": {
      "text/plain": [
       "np.float64(-0.047220201374263374)"
      ]
     },
     "execution_count": 27,
     "metadata": {},
     "output_type": "execute_result"
    }
   ],
   "source": [
    "#Negative skewness for Spending Score\n",
    "df['Spending Score (1-100)'].skew()"
   ]
  },
  {
   "cell_type": "code",
   "execution_count": 16,
   "metadata": {},
   "outputs": [
    {
     "data": {
      "text/plain": [
       "np.float64(-0.8266291062061502)"
      ]
     },
     "execution_count": 16,
     "metadata": {},
     "output_type": "execute_result"
    }
   ],
   "source": [
    "#Negative kurtosis for Spending Score\n",
    "kurtosis(df['Spending Score (1-100)'],bias = 0)"
   ]
  },
  {
   "cell_type": "markdown",
   "metadata": {},
   "source": [
    "### 4. Exploring Relationships Between Variables\n",
    "\n",
    "#### Q6: Use a **box plot** to compare the **Spending Score** distribution for **Male** and **Female** customers. What can you infer about the spending patterns?\n"
   ]
  },
  {
   "cell_type": "code",
   "execution_count": 29,
   "metadata": {},
   "outputs": [
    {
     "data": {
      "text/plain": [
       "Text(0.5, 1.0, 'Spending Score by Male And Female')"
      ]
     },
     "execution_count": 29,
     "metadata": {},
     "output_type": "execute_result"
    },
    {
     "data": {
      "image/png": "[encoded data removed]",
      "text/plain": [
       "<Figure size 640x480 with 1 Axes>"
      ]
     },
     "metadata": {},
     "output_type": "display_data"
    }
   ],
   "source": [
    "#Have more Quantity of Male spending than female, but female spending with higher score.\n",
    "sns.boxplot(x = \"Gender\", y = \"Spending Score (1-100)\", hue= \"Gender\", data = df).set_title(\"Spending Score by Male And Female\")"
   ]
  },
  {
   "cell_type": "markdown",
   "metadata": {},
   "source": [
    "#### Q7: Use a **scatter plot** to examine the relationship between **Annual Income** and **Spending Score**. Calculate the Pearson correlation coefficient and interpret the relationship.\n"
   ]
  },
  {
   "cell_type": "code",
   "execution_count": 4,
   "metadata": {},
   "outputs": [
    {
     "data": {
      "text/plain": [
       "<Axes: xlabel='Annual Income (k$)', ylabel='Spending Score (1-100)'>"
      ]
     },
     "execution_count": 4,
     "metadata": {},
     "output_type": "execute_result"
    },
    {
     "data": {
      "image/png": "[encoded data removed]",
      "text/plain": [
       "<Figure size 640x480 with 1 Axes>"
      ]
     },
     "metadata": {},
     "output_type": "display_data"
    }
   ],
   "source": [
    "df.plot.scatter(x = \"Annual Income (k$)\", y = \"Spending Score (1-100)\")"
   ]
  },
  {
   "cell_type": "code",
   "execution_count": 5,
   "metadata": {},
   "outputs": [
    {
     "data": {
      "text/plain": [
       "array([[1.        , 0.00990285],\n",
       "       [0.00990285, 1.        ]])"
      ]
     },
     "execution_count": 5,
     "metadata": {},
     "output_type": "execute_result"
    }
   ],
   "source": [
    "np.corrcoef(df.loc[:, \"Annual Income (k$)\"], df.loc[:, \"Spending Score (1-100)\"])"
   ]
  },
  {
   "cell_type": "code",
   "execution_count": 6,
   "metadata": {},
   "outputs": [
    {
     "data": {
      "text/plain": [
       "Text(24.625000000000007, 0.5, 'Writing score')"
      ]
     },
     "execution_count": 6,
     "metadata": {},
     "output_type": "execute_result"
    },
    {
     "data": {
      "image/png": "[encoded data removed]",
      "text/plain": [
       "<Figure size 500x500 with 1 Axes>"
      ]
     },
     "metadata": {},
     "output_type": "display_data"
    }
   ],
   "source": [
    "#There is a strong positive correlation between annual income and spending scores.\n",
    "sns.lmplot(x = \"Annual Income (k$)\", y = \"Spending Score (1-100)\", data = df, \n",
    "           ci = False)\n",
    "\n",
    "ax = plt.gca() # get current axis \n",
    "ax.set_title(\"There is a strong positive correlation between annual income and spending scores\")\n",
    "ax.set_xlabel(\"Reading score\")\n",
    "ax.set_ylabel(\"Writing score\")"
   ]
  },
  {
   "cell_type": "markdown",
   "metadata": {},
   "source": [
    "---"
   ]
  },
  {
   "cell_type": "markdown",
   "metadata": {},
   "source": [
    "\n",
    "### 5. Outlier Detection\n",
    "\n",
    "#### Q8: Calculate the following for the **Age** and **Annual Income** columns:\n",
    "   - Q1 (25th percentile)\n",
    "   - Q3 (75th percentile)\n",
    "   - Interquartile Range (IQR)\n",
    "   - Lower Fence (LF)\n",
    "   - Upper Fence (UF)\n",
    "\n",
    "   Identify any outliers based on these values.\n"
   ]
  },
  {
   "cell_type": "code",
   "execution_count": 39,
   "metadata": {},
   "outputs": [
    {
     "name": "stdout",
     "output_type": "stream",
     "text": [
      "\n",
      "The first quartile is 41.5\n",
      "The third quartile is 78.0\n",
      "The IQR is 36.5\n",
      "The lower fence is -13.25\n",
      "The upper fence is 132.75\n",
      "\n"
     ]
    }
   ],
   "source": [
    "\n",
    "Q1 = df['Annual Income (k$)'].quantile(.25)\n",
    "Q3 = df['Annual Income (k$)'].quantile(.75)\n",
    "iqr= Q3 - Q1\n",
    "Lf = Q1 - 1.5 * iqr\n",
    "Uf = Q3 + 1.5 * iqr\n",
    "\n",
    "print(f\"\"\"\n",
    "The first quartile is {Q1}\n",
    "The third quartile is {Q3}\n",
    "The IQR is {iqr}\n",
    "The lower fence is {Lf}\n",
    "The upper fence is {Uf}\n",
    "\"\"\")"
   ]
  },
  {
   "cell_type": "markdown",
   "metadata": {},
   "source": [
    "---"
   ]
  },
  {
   "cell_type": "markdown",
   "metadata": {},
   "source": [
    "### 6. Customer Segmentation Analysis\n",
    "\n",
    "#### Q9: Group customers by **Age Group** (e.g., <20, 20-30, 30-40, etc.) and calculate the mean **Spending Score** for each group. Visualize the results in a bar chart.\n",
    "\n",
    "   - **Hint**: Use `pd.cut()` to create age groups, and then `groupby()` to calculate average values."
   ]
  },
  {
   "cell_type": "code",
   "execution_count": 7,
   "metadata": {},
   "outputs": [
    {
     "name": "stdout",
     "output_type": "stream",
     "text": [
      "  Age_Group  Spending_mean\n",
      "0  Under 20      44.647059\n",
      "1     20-30      67.222222\n",
      "2     31-40      57.500000\n",
      "3     41-50      34.394737\n",
      "4       51+      37.475000\n"
     ]
    },
    {
     "name": "stderr",
     "output_type": "stream",
     "text": [
      "C:\\Users\\USER\\AppData\\Local\\Temp\\ipykernel_1528\\4166706155.py:2: FutureWarning: The default of observed=False is deprecated and will be changed to True in a future version of pandas. Pass observed=False to retain current behavior or observed=True to adopt the future default and silence this warning.\n",
      "  agespending_means = df.groupby('Age_Group')['Spending Score (1-100)'].mean().reset_index()\n"
     ]
    }
   ],
   "source": [
    "\n",
    "df['Age_Group'] = pd.cut(df['Age'], bins=[0,20,30,40,50,np.inf], labels=['Under 20', '20-30', '31-40', '41-50', '51+'])\n",
    "agespending_means = df.groupby('Age_Group')['Spending Score (1-100)'].mean().reset_index()\n",
    "agespending_means.rename(columns={'Spending Score (1-100)': 'Spending_mean'}, inplace=True)\n",
    "\n",
    "print(agespending_means)\n"
   ]
  },
  {
   "cell_type": "code",
   "execution_count": 17,
   "metadata": {},
   "outputs": [
    {
     "data": {
      "image/png": "[encoded data removed]",
      "text/plain": [
       "<Figure size 640x480 with 1 Axes>"
      ]
     },
     "metadata": {},
     "output_type": "display_data"
    }
   ],
   "source": [
    "plt.bar(agespending_means['Age_Group'], agespending_means['Spending_mean'])\n",
    "plt.xlabel('Age Group')\n",
    "plt.ylabel('Mean Spending Score')\n",
    "plt.title('Mean Spending Score by Age Group')\n",
    "plt.show()"
   ]
  },
  {
   "cell_type": "markdown",
   "metadata": {},
   "source": [
    "---"
   ]
  },
  {
   "cell_type": "markdown",
   "metadata": {},
   "source": [
    "\n",
    "### 10. Examine Gender-Based Spending Habits\n",
    "   - **Question**: Calculate the average **Spending Score** and **Annual Income** for each gender. Does one gender tend to spend more on average?\n",
    "   - **Hint**: Use `groupby()` on the gender column \n"
   ]
  },
  {
   "cell_type": "code",
   "execution_count": 8,
   "metadata": {},
   "outputs": [
    {
     "name": "stdout",
     "output_type": "stream",
     "text": [
      "   Gender  Annual Income (k$)  Spending Score (1-100)\n",
      "0  Female           59.250000               51.526786\n",
      "1    Male           62.227273               48.511364\n"
     ]
    }
   ],
   "source": [
    "#Yes, Female tend to spend more.\n",
    "ByGender= df.groupby('Gender')[['Annual Income (k$)','Spending Score (1-100)']].mean().reset_index()\n",
    "\n",
    "print(ByGender)"
   ]
  },
  {
   "cell_type": "markdown",
   "metadata": {},
   "source": [
    "\n",
    "### 11. Calculate Z-scores for Spending Score\n",
    "   - **Question**: Calculate the Z-scores for the **Spending Score** column to identify which customers have exceptionally high or low spending scores. Highlight any customers with Z-scores greater than 2 or less than -2.\n",
    "   - **Hint**: Z-score can be calculated as `(value - mean) / std`."
   ]
  },
  {
   "cell_type": "code",
   "execution_count": 9,
   "metadata": {},
   "outputs": [
    {
     "name": "stdout",
     "output_type": "stream",
     "text": [
      "Z-scores calculated:    \n",
      " 0     -0.433713\n",
      "1      1.192711\n",
      "2     -1.711618\n",
      "3      1.037814\n",
      "4     -0.394989\n",
      "         ...   \n",
      "195    1.115262\n",
      "196   -0.859681\n",
      "197    0.921640\n",
      "198   -1.246925\n",
      "199    1.270160\n",
      "Name: Spending Score (1-100), Length: 200, dtype: float64\n",
      "Z-score of spending score no have outliers\n"
     ]
    }
   ],
   "source": [
    "mean = df['Spending Score (1-100)'].mean()\n",
    "std = df['Spending Score (1-100)'].std()\n",
    "\n",
    "z_scores = (df[\"Spending Score (1-100)\"] - mean) / std\n",
    "\n",
    "print('''Z-scores calculated:    \n",
    "''', z_scores)\n",
    "\n",
    "outliers = z_scores[(z_scores < -2) | (z_scores > 2)]\n",
    "\n",
    "if not outliers.empty:\n",
    "    for score in outliers:\n",
    "        print(\"Outlier Z-score:\", round(score, 2))\n",
    "else:\n",
    "    print(\"Z-score of spending score no have outliers\")"
   ]
  },
  {
   "cell_type": "markdown",
   "metadata": {},
   "source": [
    "\n",
    "### 12. Cluster Analysis Preparation (Optional)\n",
    "   - **Question**: Use the Age and Annual Income columns to create basic clusters (e.g., Low Income/Young Age, High Income/Older Age). Categorize each customer based on these clusters.\n",
    "   - **Hint**: You can use `pd.cut()` for age ranges and income ranges, and then combine them to create clusters.\n"
   ]
  },
  {
   "cell_type": "code",
   "execution_count": 14,
   "metadata": {},
   "outputs": [
    {
     "data": {
      "text/html": [
       "<div>\n",
       "<style scoped>\n",
       "    .dataframe tbody tr th:only-of-type {\n",
       "        vertical-align: middle;\n",
       "    }\n",
       "\n",
       "    .dataframe tbody tr th {\n",
       "        vertical-align: top;\n",
       "    }\n",
       "\n",
       "    .dataframe thead th {\n",
       "        text-align: right;\n",
       "    }\n",
       "</style>\n",
       "<table border=\"1\" class=\"dataframe\">\n",
       "  <thead>\n",
       "    <tr style=\"text-align: right;\">\n",
       "      <th></th>\n",
       "      <th>CustomerID</th>\n",
       "      <th>Gender</th>\n",
       "      <th>Age</th>\n",
       "      <th>Annual Income (k$)</th>\n",
       "      <th>Spending Score (1-100)</th>\n",
       "      <th>Age_Group</th>\n",
       "      <th>Cluster_Age</th>\n",
       "      <th>Cluster_Income</th>\n",
       "    </tr>\n",
       "  </thead>\n",
       "  <tbody>\n",
       "    <tr>\n",
       "      <th>0</th>\n",
       "      <td>1</td>\n",
       "      <td>Male</td>\n",
       "      <td>19</td>\n",
       "      <td>15</td>\n",
       "      <td>39</td>\n",
       "      <td>Under 20</td>\n",
       "      <td>Young Age</td>\n",
       "      <td>Low Income</td>\n",
       "    </tr>\n",
       "    <tr>\n",
       "      <th>1</th>\n",
       "      <td>2</td>\n",
       "      <td>Male</td>\n",
       "      <td>21</td>\n",
       "      <td>15</td>\n",
       "      <td>81</td>\n",
       "      <td>20-30</td>\n",
       "      <td>Young Age</td>\n",
       "      <td>Low Income</td>\n",
       "    </tr>\n",
       "    <tr>\n",
       "      <th>2</th>\n",
       "      <td>3</td>\n",
       "      <td>Female</td>\n",
       "      <td>20</td>\n",
       "      <td>16</td>\n",
       "      <td>6</td>\n",
       "      <td>Under 20</td>\n",
       "      <td>Young Age</td>\n",
       "      <td>Low Income</td>\n",
       "    </tr>\n",
       "    <tr>\n",
       "      <th>3</th>\n",
       "      <td>4</td>\n",
       "      <td>Female</td>\n",
       "      <td>23</td>\n",
       "      <td>16</td>\n",
       "      <td>77</td>\n",
       "      <td>20-30</td>\n",
       "      <td>Young Age</td>\n",
       "      <td>Low Income</td>\n",
       "    </tr>\n",
       "    <tr>\n",
       "      <th>4</th>\n",
       "      <td>5</td>\n",
       "      <td>Female</td>\n",
       "      <td>31</td>\n",
       "      <td>17</td>\n",
       "      <td>40</td>\n",
       "      <td>31-40</td>\n",
       "      <td>Young Age</td>\n",
       "      <td>Low Income</td>\n",
       "    </tr>\n",
       "    <tr>\n",
       "      <th>...</th>\n",
       "      <td>...</td>\n",
       "      <td>...</td>\n",
       "      <td>...</td>\n",
       "      <td>...</td>\n",
       "      <td>...</td>\n",
       "      <td>...</td>\n",
       "      <td>...</td>\n",
       "      <td>...</td>\n",
       "    </tr>\n",
       "    <tr>\n",
       "      <th>195</th>\n",
       "      <td>196</td>\n",
       "      <td>Female</td>\n",
       "      <td>35</td>\n",
       "      <td>120</td>\n",
       "      <td>79</td>\n",
       "      <td>31-40</td>\n",
       "      <td>Young Age</td>\n",
       "      <td>High Income</td>\n",
       "    </tr>\n",
       "    <tr>\n",
       "      <th>196</th>\n",
       "      <td>197</td>\n",
       "      <td>Female</td>\n",
       "      <td>45</td>\n",
       "      <td>126</td>\n",
       "      <td>28</td>\n",
       "      <td>41-50</td>\n",
       "      <td>Older Age</td>\n",
       "      <td>High Income</td>\n",
       "    </tr>\n",
       "    <tr>\n",
       "      <th>197</th>\n",
       "      <td>198</td>\n",
       "      <td>Male</td>\n",
       "      <td>32</td>\n",
       "      <td>126</td>\n",
       "      <td>74</td>\n",
       "      <td>31-40</td>\n",
       "      <td>Young Age</td>\n",
       "      <td>High Income</td>\n",
       "    </tr>\n",
       "    <tr>\n",
       "      <th>198</th>\n",
       "      <td>199</td>\n",
       "      <td>Male</td>\n",
       "      <td>32</td>\n",
       "      <td>137</td>\n",
       "      <td>18</td>\n",
       "      <td>31-40</td>\n",
       "      <td>Young Age</td>\n",
       "      <td>High Income</td>\n",
       "    </tr>\n",
       "    <tr>\n",
       "      <th>199</th>\n",
       "      <td>200</td>\n",
       "      <td>Male</td>\n",
       "      <td>30</td>\n",
       "      <td>137</td>\n",
       "      <td>83</td>\n",
       "      <td>20-30</td>\n",
       "      <td>Young Age</td>\n",
       "      <td>High Income</td>\n",
       "    </tr>\n",
       "  </tbody>\n",
       "</table>\n",
       "<p>200 rows × 8 columns</p>\n",
       "</div>"
      ],
      "text/plain": [
       "     CustomerID  Gender  Age  Annual Income (k$)  Spending Score (1-100)  \\\n",
       "0             1    Male   19                  15                      39   \n",
       "1             2    Male   21                  15                      81   \n",
       "2             3  Female   20                  16                       6   \n",
       "3             4  Female   23                  16                      77   \n",
       "4             5  Female   31                  17                      40   \n",
       "..          ...     ...  ...                 ...                     ...   \n",
       "195         196  Female   35                 120                      79   \n",
       "196         197  Female   45                 126                      28   \n",
       "197         198    Male   32                 126                      74   \n",
       "198         199    Male   32                 137                      18   \n",
       "199         200    Male   30                 137                      83   \n",
       "\n",
       "    Age_Group Cluster_Age Cluster_Income  \n",
       "0    Under 20   Young Age     Low Income  \n",
       "1       20-30   Young Age     Low Income  \n",
       "2    Under 20   Young Age     Low Income  \n",
       "3       20-30   Young Age     Low Income  \n",
       "4       31-40   Young Age     Low Income  \n",
       "..        ...         ...            ...  \n",
       "195     31-40   Young Age    High Income  \n",
       "196     41-50   Older Age    High Income  \n",
       "197     31-40   Young Age    High Income  \n",
       "198     31-40   Young Age    High Income  \n",
       "199     20-30   Young Age    High Income  \n",
       "\n",
       "[200 rows x 8 columns]"
      ]
     },
     "execution_count": 14,
     "metadata": {},
     "output_type": "execute_result"
    }
   ],
   "source": [
    "df['Cluster_Age'] = pd.cut(df['Age'], bins=[0,35,np.inf], labels=['Young Age', 'Older Age'])\n",
    "\n",
    "df['Cluster_Income'] = pd.cut(df['Annual Income (k$)'], bins=[0,68,np.inf], labels=['Low Income', 'High Income'])\n",
    "df"
   ]
  },
  {
   "cell_type": "markdown",
   "metadata": {},
   "source": [
    "\n",
    "### 13. Calculate and Interpret Percentiles\n",
    "   - **Question**: Calculate the 25th, 50th, and 75th percentiles for the **Spending Score** and **Annual Income** columns. What insights can you gain from these percentiles?\n",
    "   - **Hint**: Use `np.percentile()` or `df.quantile()` to get these values for each column.\n"
   ]
  },
  {
   "cell_type": "code",
   "execution_count": 29,
   "metadata": {},
   "outputs": [
    {
     "data": {
      "text/plain": [
       "0.25    34.75\n",
       "0.50    50.00\n",
       "0.75    73.00\n",
       "Name: Spending Score (1-100), dtype: float64"
      ]
     },
     "execution_count": 29,
     "metadata": {},
     "output_type": "execute_result"
    }
   ],
   "source": [
    "#Spending Score for 25th, 50th, and 75th percentiles\n",
    "df['Spending Score (1-100)'].quantile((.25, .50, .75))\n"
   ]
  },
  {
   "cell_type": "code",
   "execution_count": null,
   "metadata": {},
   "outputs": [],
   "source": [
    "Based on the resulting output, we can conclude that:\n",
    "1. Less than 25% of the individuals in the data set have spending less than  34.75.\n",
    "2. Less than 50% of the individuals in the data set have spending less than  50.\n",
    "3. Less than 80% of the individuals in the data set have spending less than 73."
   ]
  },
  {
   "cell_type": "code",
   "execution_count": 31,
   "metadata": {},
   "outputs": [
    {
     "data": {
      "text/plain": [
       "0.25    41.5\n",
       "0.50    61.5\n",
       "0.75    78.0\n",
       "Name: Annual Income (k$), dtype: float64"
      ]
     },
     "execution_count": 31,
     "metadata": {},
     "output_type": "execute_result"
    }
   ],
   "source": [
    "#Annual income for 25th, 50th, and 75th percentiles\n",
    "df['Annual Income (k$)'].quantile((.25, .50, .75))\n"
   ]
  },
  {
   "cell_type": "code",
   "execution_count": null,
   "metadata": {},
   "outputs": [],
   "source": [
    "Based on the resulting output, we can conclude that:\n",
    "1. Less than 25% of the individuals in the data set have income less than 41.5k.\n",
    "2. Less than 50% of the individuals in the data set have income less than  61.5k.\n",
    "3. Less than 80% of the individuals in the data set have income less than 78k."
   ]
  },
  {
   "cell_type": "markdown",
   "metadata": {},
   "source": [
    "\n",
    "### 14. Visualize Spending Score Distribution by Gender and Age Group\n",
    "   - **Question**: Create a box plot to show **Spending Score** distribution across both gender and age groups. Which group has the highest variability in spending?\n",
    "   - **Hint**: Use `sns.boxplot()` with `x='Age Group'`, `y='Spending Score'`, and `hue='Gender'` if using Seaborn."
   ]
  },
  {
   "cell_type": "code",
   "execution_count": 38,
   "metadata": {},
   "outputs": [
    {
     "data": {
      "text/plain": [
       "Text(0.5, 1.0, 'Spending Score Distribution by Gender and Age Group')"
      ]
     },
     "execution_count": 38,
     "metadata": {},
     "output_type": "execute_result"
    },
    {
     "data": {
      "image/png": "[encoded data removed]",
      "text/plain": [
       "<Figure size 640x480 with 1 Axes>"
      ]
     },
     "metadata": {},
     "output_type": "display_data"
    }
   ],
   "source": [
    "#Male at age of 31- 40 has the highest variability in spending. \n",
    "df['Age_Group'] = pd.cut(df['Age'], bins=[0,20,30,40,50,np.inf], labels=['Under 20', '20-30', '31-40', '41-50', '51+'])\n",
    "sns.boxplot(x = \"Age_Group\", y = \"Spending Score (1-100)\", hue = 'Gender' , data =df).set_title(\"Spending Score Distribution by Gender and Age Group\")"
   ]
  }
 ],
 "metadata": {
  "kernelspec": {
   "display_name": "Python 3 (ipykernel)",
   "language": "python",
   "name": "python3"
  },
  "language_info": {
   "codemirror_mode": {
    "name": "ipython",
    "version": 3
   },
   "file_extension": ".py",
   "mimetype": "text/x-python",
   "name": "python",
   "nbconvert_exporter": "python",
   "pygments_lexer": "ipython3",
   "version": "3.12.6"
  }
 },
 "nbformat": 4,
 "nbformat_minor": 4
}
